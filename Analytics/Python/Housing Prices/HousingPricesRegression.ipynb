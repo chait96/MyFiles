{
 "cells": [
  {
   "cell_type": "code",
   "execution_count": 1,
   "id": "9181365c",
   "metadata": {},
   "outputs": [],
   "source": [
    "import numpy as np\n",
    "import pandas as pd\n",
    "import matplotlib\n",
    "import matplotlib.pyplot as plt\n",
    "import difflib\n",
    "from sklearn import preprocessing\n",
    "from category_encoders import TargetEncoder\n",
    "from sklearn.model_selection import train_test_split\n",
    "from sklearn.linear_model import LinearRegression\n",
    "from sklearn.metrics import mean_squared_error\n",
    "from sklearn.metrics import r2_score\n",
    "from scipy.stats.mstats import normaltest\n",
    "from pathlib import Path"
   ]
  },
  {
   "cell_type": "code",
   "execution_count": 2,
   "id": "caefc6c7",
   "metadata": {},
   "outputs": [
    {
     "name": "stdout",
     "output_type": "stream",
     "text": [
      "D:\\Git\\Datasets\\Housing Prices\\housing_prices_data.csv\n"
     ]
    }
   ],
   "source": [
    "path = str(Path().resolve().parents[2])+\"\\Datasets\\Housing Prices\\housing_prices_data.csv\"\n",
    "print(path)"
   ]
  },
  {
   "cell_type": "markdown",
   "id": "cdbc60eb",
   "metadata": {},
   "source": [
    "## Import Data"
   ]
  },
  {
   "cell_type": "code",
   "execution_count": 3,
   "id": "772b2a15",
   "metadata": {},
   "outputs": [
    {
     "data": {
      "text/html": [
       "<div>\n",
       "<style scoped>\n",
       "    .dataframe tbody tr th:only-of-type {\n",
       "        vertical-align: middle;\n",
       "    }\n",
       "\n",
       "    .dataframe tbody tr th {\n",
       "        vertical-align: top;\n",
       "    }\n",
       "\n",
       "    .dataframe thead th {\n",
       "        text-align: right;\n",
       "    }\n",
       "</style>\n",
       "<table border=\"1\" class=\"dataframe\">\n",
       "  <thead>\n",
       "    <tr style=\"text-align: right;\">\n",
       "      <th></th>\n",
       "      <th>locality_name</th>\n",
       "      <th>region_name</th>\n",
       "      <th>price</th>\n",
       "      <th>value_per_sqft</th>\n",
       "      <th>area</th>\n",
       "      <th>construction_status</th>\n",
       "      <th>house_type</th>\n",
       "      <th>total_rooms</th>\n",
       "      <th>total_beds</th>\n",
       "      <th>new_resale</th>\n",
       "      <th>age</th>\n",
       "    </tr>\n",
       "  </thead>\n",
       "  <tbody>\n",
       "    <tr>\n",
       "      <th>0</th>\n",
       "      <td>Tarwala Nagar</td>\n",
       "      <td>Nashik</td>\n",
       "      <td>8499000.0</td>\n",
       "      <td>3761.0</td>\n",
       "      <td>2260.0</td>\n",
       "      <td>Under Construction</td>\n",
       "      <td>Apartment</td>\n",
       "      <td>6.0</td>\n",
       "      <td>4.0</td>\n",
       "      <td>New</td>\n",
       "      <td>-1.0</td>\n",
       "    </tr>\n",
       "    <tr>\n",
       "      <th>1</th>\n",
       "      <td>Dombivali</td>\n",
       "      <td>Mumbai</td>\n",
       "      <td>6790000.0</td>\n",
       "      <td>13580.0</td>\n",
       "      <td>500.0</td>\n",
       "      <td>Under Construction</td>\n",
       "      <td>Apartment</td>\n",
       "      <td>4.0</td>\n",
       "      <td>2.0</td>\n",
       "      <td>New</td>\n",
       "      <td>0.0</td>\n",
       "    </tr>\n",
       "    <tr>\n",
       "      <th>2</th>\n",
       "      <td>Wagholi</td>\n",
       "      <td>Pune</td>\n",
       "      <td>6030000.0</td>\n",
       "      <td>7811.0</td>\n",
       "      <td>773.0</td>\n",
       "      <td>Under Construction</td>\n",
       "      <td>Apartment</td>\n",
       "      <td>5.0</td>\n",
       "      <td>3.0</td>\n",
       "      <td>New</td>\n",
       "      <td>-3.0</td>\n",
       "    </tr>\n",
       "    <tr>\n",
       "      <th>3</th>\n",
       "      <td>Ambegaon Budruk</td>\n",
       "      <td>Pune</td>\n",
       "      <td>3537000.0</td>\n",
       "      <td>7417.0</td>\n",
       "      <td>477.0</td>\n",
       "      <td>Ready to move</td>\n",
       "      <td>Apartment</td>\n",
       "      <td>3.0</td>\n",
       "      <td>1.0</td>\n",
       "      <td>New</td>\n",
       "      <td>0.5</td>\n",
       "    </tr>\n",
       "    <tr>\n",
       "      <th>4</th>\n",
       "      <td>Dombivali</td>\n",
       "      <td>Mumbai</td>\n",
       "      <td>9500000.0</td>\n",
       "      <td>10359.0</td>\n",
       "      <td>917.0</td>\n",
       "      <td>Under Construction</td>\n",
       "      <td>Apartment</td>\n",
       "      <td>5.0</td>\n",
       "      <td>3.0</td>\n",
       "      <td>New</td>\n",
       "      <td>-3.0</td>\n",
       "    </tr>\n",
       "  </tbody>\n",
       "</table>\n",
       "</div>"
      ],
      "text/plain": [
       "     locality_name region_name      price  value_per_sqft    area  \\\n",
       "0    Tarwala Nagar      Nashik  8499000.0          3761.0  2260.0   \n",
       "1        Dombivali      Mumbai  6790000.0         13580.0   500.0   \n",
       "2          Wagholi        Pune  6030000.0          7811.0   773.0   \n",
       "3  Ambegaon Budruk        Pune  3537000.0          7417.0   477.0   \n",
       "4        Dombivali      Mumbai  9500000.0         10359.0   917.0   \n",
       "\n",
       "  construction_status house_type  total_rooms  total_beds new_resale  age  \n",
       "0  Under Construction  Apartment          6.0         4.0        New -1.0  \n",
       "1  Under Construction  Apartment          4.0         2.0        New  0.0  \n",
       "2  Under Construction  Apartment          5.0         3.0        New -3.0  \n",
       "3       Ready to move  Apartment          3.0         1.0        New  0.5  \n",
       "4  Under Construction  Apartment          5.0         3.0        New -3.0  "
      ]
     },
     "execution_count": 3,
     "metadata": {},
     "output_type": "execute_result"
    }
   ],
   "source": [
    "# https://www.kaggle.com/datasets/prathameshf/housing-properties-in-maharashtra-big-cities\n",
    "data = pd.read_csv(path)\n",
    "# remove whitespaces\n",
    "data = data.apply(lambda x: x.str.strip() if x.dtype == \"object\" else x)\n",
    "data.head()"
   ]
  },
  {
   "cell_type": "code",
   "execution_count": 4,
   "id": "0a8ebead",
   "metadata": {},
   "outputs": [],
   "source": [
    "df = data.copy()"
   ]
  },
  {
   "cell_type": "markdown",
   "id": "1a415f20",
   "metadata": {},
   "source": [
    "## Exploratory Data Analysis"
   ]
  },
  {
   "cell_type": "code",
   "execution_count": 5,
   "id": "dd5bb3c5",
   "metadata": {},
   "outputs": [
    {
     "name": "stdout",
     "output_type": "stream",
     "text": [
      "<class 'pandas.core.frame.DataFrame'>\n",
      "RangeIndex: 191275 entries, 0 to 191274\n",
      "Data columns (total 11 columns):\n",
      " #   Column               Non-Null Count   Dtype  \n",
      "---  ------               --------------   -----  \n",
      " 0   locality_name        191274 non-null  object \n",
      " 1   region_name          191274 non-null  object \n",
      " 2   price                191274 non-null  float64\n",
      " 3   value_per_sqft       191274 non-null  float64\n",
      " 4   area                 191274 non-null  float64\n",
      " 5   construction_status  191274 non-null  object \n",
      " 6   house_type           191274 non-null  object \n",
      " 7   total_rooms          191274 non-null  float64\n",
      " 8   total_beds           191274 non-null  float64\n",
      " 9   new_resale           191274 non-null  object \n",
      " 10  age                  191274 non-null  float64\n",
      "dtypes: float64(6), object(5)\n",
      "memory usage: 16.1+ MB\n"
     ]
    }
   ],
   "source": [
    "df.info()\n",
    "#df.isnull().sum()"
   ]
  },
  {
   "cell_type": "code",
   "execution_count": 6,
   "id": "411350a2",
   "metadata": {},
   "outputs": [],
   "source": [
    "df.dropna(inplace=True)"
   ]
  },
  {
   "cell_type": "code",
   "execution_count": 7,
   "id": "8353798d",
   "metadata": {},
   "outputs": [
    {
     "data": {
      "text/plain": [
       "71364"
      ]
     },
     "execution_count": 7,
     "metadata": {},
     "output_type": "execute_result"
    }
   ],
   "source": [
    "df.duplicated().sum()"
   ]
  },
  {
   "cell_type": "code",
   "execution_count": 8,
   "id": "a01a3ea7",
   "metadata": {},
   "outputs": [],
   "source": [
    "df.drop_duplicates(inplace=True)"
   ]
  },
  {
   "cell_type": "code",
   "execution_count": 9,
   "id": "5ba170d5",
   "metadata": {},
   "outputs": [
    {
     "data": {
      "text/plain": [
       "locality_name           1674\n",
       "region_name               36\n",
       "price                   7880\n",
       "value_per_sqft         22507\n",
       "area                    3067\n",
       "construction_status        2\n",
       "house_type                 6\n",
       "total_rooms               13\n",
       "total_beds                13\n",
       "new_resale                 3\n",
       "age                      101\n",
       "dtype: int64"
      ]
     },
     "execution_count": 9,
     "metadata": {},
     "output_type": "execute_result"
    }
   ],
   "source": [
    "df.nunique()"
   ]
  },
  {
   "cell_type": "code",
   "execution_count": 10,
   "id": "9e41f877",
   "metadata": {},
   "outputs": [
    {
     "data": {
      "text/plain": [
       "array(['Ahmednagar', 'Akola', 'Alibaugh', 'Amravati', 'Aurangabad',\n",
       "       'Baramati', 'Beed', 'Bhandara', 'Buldana', 'Chandrapur', 'Dhule',\n",
       "       'Hingoli', 'Jalgaon', 'Jalna', 'Kolhapur', 'Latur', 'Lonikand',\n",
       "       'Mumbai', 'Nagpur', 'Nanded', 'Nandurbar', 'Nashik', 'Nasik',\n",
       "       'Osmanabad', 'Parbhani', 'Pune', 'Raigad', 'Ratnagiri', 'Sangli',\n",
       "       'Satara', 'Shirdi', 'Sindhudurg', 'Solapur', 'Vikramgad', 'Wardha',\n",
       "       'Yavatmal'], dtype=object)"
      ]
     },
     "execution_count": 10,
     "metadata": {},
     "output_type": "execute_result"
    }
   ],
   "source": [
    "df['region_name'].sort_values().unique()"
   ]
  },
  {
   "cell_type": "markdown",
   "id": "8be7989d",
   "metadata": {},
   "source": [
    "<p>'Nashik', 'Nasik' (same)</p>"
   ]
  },
  {
   "cell_type": "code",
   "execution_count": 11,
   "id": "80d6ccdd",
   "metadata": {},
   "outputs": [
    {
     "data": {
      "text/plain": [
       "construction_status\n",
       "Ready to move          73757\n",
       "Under Construction     46153\n",
       "dtype: int64"
      ]
     },
     "execution_count": 11,
     "metadata": {},
     "output_type": "execute_result"
    }
   ],
   "source": [
    "df[['construction_status']].value_counts()"
   ]
  },
  {
   "cell_type": "code",
   "execution_count": 12,
   "id": "9ba65765",
   "metadata": {},
   "outputs": [
    {
     "data": {
      "text/plain": [
       "house_type       \n",
       "Apartment            113511\n",
       "Studio Apartment       2965\n",
       "Independent House      1475\n",
       "Villa                  1375\n",
       "Independent Floor       562\n",
       "Penthouse                22\n",
       "dtype: int64"
      ]
     },
     "execution_count": 12,
     "metadata": {},
     "output_type": "execute_result"
    }
   ],
   "source": [
    "df[['house_type']].value_counts()"
   ]
  },
  {
   "cell_type": "code",
   "execution_count": 13,
   "id": "a9528362",
   "metadata": {},
   "outputs": [
    {
     "data": {
      "text/plain": [
       "new_resale\n",
       "New           60554\n",
       "Resale        48842\n",
       "old           10514\n",
       "dtype: int64"
      ]
     },
     "execution_count": 13,
     "metadata": {},
     "output_type": "execute_result"
    }
   ],
   "source": [
    "df[['new_resale']].value_counts()"
   ]
  },
  {
   "cell_type": "code",
   "execution_count": 14,
   "id": "fc3a4429",
   "metadata": {},
   "outputs": [
    {
     "data": {
      "text/plain": [
       "2.0    119909\n",
       "3.0         1\n",
       "Name: room_diff, dtype: int64"
      ]
     },
     "execution_count": 14,
     "metadata": {},
     "output_type": "execute_result"
    }
   ],
   "source": [
    "df['room_diff'] = df.total_rooms - df.total_beds\n",
    "df['room_diff'].value_counts()"
   ]
  },
  {
   "cell_type": "markdown",
   "id": "e2a96d59",
   "metadata": {},
   "source": [
    "<p>'total_rooms' = 'totaMl_beds' + 2. We can drop either one of the columns</p>"
   ]
  },
  {
   "cell_type": "code",
   "execution_count": 15,
   "id": "38a3dc25",
   "metadata": {},
   "outputs": [
    {
     "data": {
      "text/html": [
       "<div>\n",
       "<style scoped>\n",
       "    .dataframe tbody tr th:only-of-type {\n",
       "        vertical-align: middle;\n",
       "    }\n",
       "\n",
       "    .dataframe tbody tr th {\n",
       "        vertical-align: top;\n",
       "    }\n",
       "\n",
       "    .dataframe thead th {\n",
       "        text-align: right;\n",
       "    }\n",
       "</style>\n",
       "<table border=\"1\" class=\"dataframe\">\n",
       "  <thead>\n",
       "    <tr style=\"text-align: right;\">\n",
       "      <th></th>\n",
       "      <th>locality_name</th>\n",
       "      <th>region_name</th>\n",
       "      <th>price</th>\n",
       "      <th>area</th>\n",
       "      <th>construction_status</th>\n",
       "      <th>house_type</th>\n",
       "      <th>bhk</th>\n",
       "      <th>new_resale</th>\n",
       "      <th>age</th>\n",
       "    </tr>\n",
       "  </thead>\n",
       "  <tbody>\n",
       "    <tr>\n",
       "      <th>0</th>\n",
       "      <td>Tarwala Nagar</td>\n",
       "      <td>Nashik</td>\n",
       "      <td>8499000.0</td>\n",
       "      <td>2260.0</td>\n",
       "      <td>Under Construction</td>\n",
       "      <td>Apartment</td>\n",
       "      <td>4.0</td>\n",
       "      <td>New</td>\n",
       "      <td>-1.0</td>\n",
       "    </tr>\n",
       "    <tr>\n",
       "      <th>1</th>\n",
       "      <td>Dombivali</td>\n",
       "      <td>Mumbai</td>\n",
       "      <td>6790000.0</td>\n",
       "      <td>500.0</td>\n",
       "      <td>Under Construction</td>\n",
       "      <td>Apartment</td>\n",
       "      <td>2.0</td>\n",
       "      <td>New</td>\n",
       "      <td>0.0</td>\n",
       "    </tr>\n",
       "    <tr>\n",
       "      <th>2</th>\n",
       "      <td>Wagholi</td>\n",
       "      <td>Pune</td>\n",
       "      <td>6030000.0</td>\n",
       "      <td>773.0</td>\n",
       "      <td>Under Construction</td>\n",
       "      <td>Apartment</td>\n",
       "      <td>3.0</td>\n",
       "      <td>New</td>\n",
       "      <td>-3.0</td>\n",
       "    </tr>\n",
       "    <tr>\n",
       "      <th>3</th>\n",
       "      <td>Ambegaon Budruk</td>\n",
       "      <td>Pune</td>\n",
       "      <td>3537000.0</td>\n",
       "      <td>477.0</td>\n",
       "      <td>Ready to move</td>\n",
       "      <td>Apartment</td>\n",
       "      <td>1.0</td>\n",
       "      <td>New</td>\n",
       "      <td>0.5</td>\n",
       "    </tr>\n",
       "    <tr>\n",
       "      <th>4</th>\n",
       "      <td>Dombivali</td>\n",
       "      <td>Mumbai</td>\n",
       "      <td>9500000.0</td>\n",
       "      <td>917.0</td>\n",
       "      <td>Under Construction</td>\n",
       "      <td>Apartment</td>\n",
       "      <td>3.0</td>\n",
       "      <td>New</td>\n",
       "      <td>-3.0</td>\n",
       "    </tr>\n",
       "  </tbody>\n",
       "</table>\n",
       "</div>"
      ],
      "text/plain": [
       "     locality_name region_name      price    area construction_status  \\\n",
       "0    Tarwala Nagar      Nashik  8499000.0  2260.0  Under Construction   \n",
       "1        Dombivali      Mumbai  6790000.0   500.0  Under Construction   \n",
       "2          Wagholi        Pune  6030000.0   773.0  Under Construction   \n",
       "3  Ambegaon Budruk        Pune  3537000.0   477.0       Ready to move   \n",
       "4        Dombivali      Mumbai  9500000.0   917.0  Under Construction   \n",
       "\n",
       "  house_type  bhk new_resale  age  \n",
       "0  Apartment  4.0        New -1.0  \n",
       "1  Apartment  2.0        New  0.0  \n",
       "2  Apartment  3.0        New -3.0  \n",
       "3  Apartment  1.0        New  0.5  \n",
       "4  Apartment  3.0        New -3.0  "
      ]
     },
     "execution_count": 15,
     "metadata": {},
     "output_type": "execute_result"
    }
   ],
   "source": [
    "# df.drop(df.columns[[3, 7, 11]], axis=1, inplace=True)\n",
    "df.drop(['value_per_sqft', 'total_rooms', 'room_diff'], axis=1, inplace=True)\n",
    "df.rename(columns = {'total_beds':'bhk'}, inplace = True)\n",
    "df['new_resale'].replace(['old'], 'Resale', inplace=True)\n",
    "df['region_name'].replace(['Nasik'], 'Nashik', inplace=True)\n",
    "df.head()"
   ]
  },
  {
   "cell_type": "markdown",
   "id": "216211ec",
   "metadata": {},
   "source": [
    "<b>We will use difflib.SequenceMatcher to find and replace similar values in the data</b>"
   ]
  },
  {
   "cell_type": "code",
   "execution_count": 16,
   "id": "4dc5340f",
   "metadata": {},
   "outputs": [],
   "source": [
    "loc_df = df.iloc[:,:2].copy()\n",
    "loc_df.drop_duplicates(inplace=True)\n",
    "loc_df = loc_df.sort_values(['region_name','locality_name'], ascending=[True, True]).reset_index(drop=True)"
   ]
  },
  {
   "cell_type": "code",
   "execution_count": 17,
   "id": "3ab48023",
   "metadata": {},
   "outputs": [
    {
     "data": {
      "text/plain": [
       "1725"
      ]
     },
     "execution_count": 17,
     "metadata": {},
     "output_type": "execute_result"
    }
   ],
   "source": [
    "len(loc_df)"
   ]
  },
  {
   "cell_type": "code",
   "execution_count": 18,
   "id": "3caabb06",
   "metadata": {},
   "outputs": [
    {
     "data": {
      "text/html": [
       "<div>\n",
       "<style scoped>\n",
       "    .dataframe tbody tr th:only-of-type {\n",
       "        vertical-align: middle;\n",
       "    }\n",
       "\n",
       "    .dataframe tbody tr th {\n",
       "        vertical-align: top;\n",
       "    }\n",
       "\n",
       "    .dataframe thead th {\n",
       "        text-align: right;\n",
       "    }\n",
       "</style>\n",
       "<table border=\"1\" class=\"dataframe\">\n",
       "  <thead>\n",
       "    <tr style=\"text-align: right;\">\n",
       "      <th></th>\n",
       "      <th>locality_name</th>\n",
       "      <th>region_name</th>\n",
       "      <th>locality_name_1</th>\n",
       "      <th>region_name_1</th>\n",
       "    </tr>\n",
       "  </thead>\n",
       "  <tbody>\n",
       "    <tr>\n",
       "      <th>0</th>\n",
       "      <td>Ahinsanagar</td>\n",
       "      <td>Ahmednagar</td>\n",
       "      <td>Bhingar</td>\n",
       "      <td>Ahmednagar</td>\n",
       "    </tr>\n",
       "    <tr>\n",
       "      <th>1</th>\n",
       "      <td>Bhingar</td>\n",
       "      <td>Ahmednagar</td>\n",
       "      <td>Bolhegaon Suburban</td>\n",
       "      <td>Ahmednagar</td>\n",
       "    </tr>\n",
       "    <tr>\n",
       "      <th>2</th>\n",
       "      <td>Bolhegaon Suburban</td>\n",
       "      <td>Ahmednagar</td>\n",
       "      <td>Borude Mala</td>\n",
       "      <td>Ahmednagar</td>\n",
       "    </tr>\n",
       "    <tr>\n",
       "      <th>3</th>\n",
       "      <td>Borude Mala</td>\n",
       "      <td>Ahmednagar</td>\n",
       "      <td>Ghulewadi</td>\n",
       "      <td>Ahmednagar</td>\n",
       "    </tr>\n",
       "    <tr>\n",
       "      <th>4</th>\n",
       "      <td>Ghulewadi</td>\n",
       "      <td>Ahmednagar</td>\n",
       "      <td>Karjat</td>\n",
       "      <td>Ahmednagar</td>\n",
       "    </tr>\n",
       "  </tbody>\n",
       "</table>\n",
       "</div>"
      ],
      "text/plain": [
       "        locality_name region_name     locality_name_1 region_name_1\n",
       "0         Ahinsanagar  Ahmednagar             Bhingar    Ahmednagar\n",
       "1             Bhingar  Ahmednagar  Bolhegaon Suburban    Ahmednagar\n",
       "2  Bolhegaon Suburban  Ahmednagar         Borude Mala    Ahmednagar\n",
       "3         Borude Mala  Ahmednagar           Ghulewadi    Ahmednagar\n",
       "4           Ghulewadi  Ahmednagar              Karjat    Ahmednagar"
      ]
     },
     "execution_count": 18,
     "metadata": {},
     "output_type": "execute_result"
    }
   ],
   "source": [
    "loc_df_copy = loc_df.copy()\n",
    "loc_df = loc_df.iloc[:-1]\n",
    "loc_df_copy = loc_df_copy.iloc[1:].reset_index(drop=True)\n",
    "loc_df = pd.concat([loc_df, loc_df_copy], axis=\"columns\")\n",
    "loc_df.columns.values[2] = \"locality_name_1\"\n",
    "loc_df.columns.values[3] = \"region_name_1\"\n",
    "loc_df.head()"
   ]
  },
  {
   "cell_type": "code",
   "execution_count": 19,
   "id": "9bad64fb",
   "metadata": {},
   "outputs": [
    {
     "data": {
      "text/plain": [
       "1724"
      ]
     },
     "execution_count": 19,
     "metadata": {},
     "output_type": "execute_result"
    }
   ],
   "source": [
    "len(loc_df)"
   ]
  },
  {
   "cell_type": "code",
   "execution_count": 20,
   "id": "3f26739c",
   "metadata": {},
   "outputs": [],
   "source": [
    "loc_df['similarity_score'] = loc_df.apply(lambda row: difflib.SequenceMatcher(\n",
    "    None, row['locality_name'], row['locality_name_1']).ratio(), axis = 1)"
   ]
  },
  {
   "cell_type": "code",
   "execution_count": 21,
   "id": "5f949a6f",
   "metadata": {},
   "outputs": [
    {
     "data": {
      "text/plain": [
       "215"
      ]
     },
     "execution_count": 21,
     "metadata": {},
     "output_type": "execute_result"
    }
   ],
   "source": [
    "len(loc_df[loc_df['similarity_score']>0.7])"
   ]
  },
  {
   "cell_type": "markdown",
   "id": "6379c082",
   "metadata": {},
   "source": [
    "<b>Some locations have 'Road' appended. We will replace those values</b>"
   ]
  },
  {
   "cell_type": "code",
   "execution_count": 22,
   "id": "056416b6",
   "metadata": {},
   "outputs": [],
   "source": [
    "loc_df[\"road\"] = loc_df.apply(lambda row: row['locality_name_1'].split(' Road')[0], axis = 1)"
   ]
  },
  {
   "cell_type": "code",
   "execution_count": 23,
   "id": "ec05a9a2",
   "metadata": {},
   "outputs": [],
   "source": [
    "loc_sim_df = loc_df[loc_df['similarity_score']>0.7]"
   ]
  },
  {
   "cell_type": "code",
   "execution_count": 24,
   "id": "c80494d9",
   "metadata": {},
   "outputs": [
    {
     "data": {
      "text/html": [
       "<div>\n",
       "<style scoped>\n",
       "    .dataframe tbody tr th:only-of-type {\n",
       "        vertical-align: middle;\n",
       "    }\n",
       "\n",
       "    .dataframe tbody tr th {\n",
       "        vertical-align: top;\n",
       "    }\n",
       "\n",
       "    .dataframe thead th {\n",
       "        text-align: right;\n",
       "    }\n",
       "</style>\n",
       "<table border=\"1\" class=\"dataframe\">\n",
       "  <thead>\n",
       "    <tr style=\"text-align: right;\">\n",
       "      <th></th>\n",
       "      <th>locality_name</th>\n",
       "      <th>region_name</th>\n",
       "      <th>locality_name_1</th>\n",
       "      <th>region_name_1</th>\n",
       "      <th>similarity_score</th>\n",
       "      <th>road</th>\n",
       "    </tr>\n",
       "  </thead>\n",
       "  <tbody>\n",
       "    <tr>\n",
       "      <th>42</th>\n",
       "      <td>Kathora</td>\n",
       "      <td>Amravati</td>\n",
       "      <td>Kathora Road</td>\n",
       "      <td>Amravati</td>\n",
       "      <td>0.736842</td>\n",
       "      <td>Kathora</td>\n",
       "    </tr>\n",
       "    <tr>\n",
       "      <th>91</th>\n",
       "      <td>Ulkanagari</td>\n",
       "      <td>Aurangabad</td>\n",
       "      <td>Ulkanagari Road</td>\n",
       "      <td>Aurangabad</td>\n",
       "      <td>0.800000</td>\n",
       "      <td>Ulkanagari</td>\n",
       "    </tr>\n",
       "    <tr>\n",
       "      <th>233</th>\n",
       "      <td>Balkum</td>\n",
       "      <td>Mumbai</td>\n",
       "      <td>Balkum Road</td>\n",
       "      <td>Mumbai</td>\n",
       "      <td>0.705882</td>\n",
       "      <td>Balkum</td>\n",
       "    </tr>\n",
       "    <tr>\n",
       "      <th>754</th>\n",
       "      <td>Thakur Village</td>\n",
       "      <td>Mumbai</td>\n",
       "      <td>Thakur Village Road</td>\n",
       "      <td>Mumbai</td>\n",
       "      <td>0.848485</td>\n",
       "      <td>Thakur Village</td>\n",
       "    </tr>\n",
       "    <tr>\n",
       "      <th>813</th>\n",
       "      <td>Vinay Nagar</td>\n",
       "      <td>Mumbai</td>\n",
       "      <td>Vinay Nagar Road</td>\n",
       "      <td>Mumbai</td>\n",
       "      <td>0.814815</td>\n",
       "      <td>Vinay Nagar</td>\n",
       "    </tr>\n",
       "    <tr>\n",
       "      <th>880</th>\n",
       "      <td>Amar Nagar</td>\n",
       "      <td>Nagpur</td>\n",
       "      <td>Amar Nagar Road</td>\n",
       "      <td>Nagpur</td>\n",
       "      <td>0.800000</td>\n",
       "      <td>Amar Nagar</td>\n",
       "    </tr>\n",
       "    <tr>\n",
       "      <th>932</th>\n",
       "      <td>Dighori</td>\n",
       "      <td>Nagpur</td>\n",
       "      <td>Dighori Road</td>\n",
       "      <td>Nagpur</td>\n",
       "      <td>0.736842</td>\n",
       "      <td>Dighori</td>\n",
       "    </tr>\n",
       "    <tr>\n",
       "      <th>936</th>\n",
       "      <td>Friends Colony</td>\n",
       "      <td>Nagpur</td>\n",
       "      <td>Friends Colony Road</td>\n",
       "      <td>Nagpur</td>\n",
       "      <td>0.848485</td>\n",
       "      <td>Friends Colony</td>\n",
       "    </tr>\n",
       "    <tr>\n",
       "      <th>945</th>\n",
       "      <td>Godhani</td>\n",
       "      <td>Nagpur</td>\n",
       "      <td>Godhani Road</td>\n",
       "      <td>Nagpur</td>\n",
       "      <td>0.736842</td>\n",
       "      <td>Godhani</td>\n",
       "    </tr>\n",
       "    <tr>\n",
       "      <th>951</th>\n",
       "      <td>Gorewada</td>\n",
       "      <td>Nagpur</td>\n",
       "      <td>Gorewada Road</td>\n",
       "      <td>Nagpur</td>\n",
       "      <td>0.761905</td>\n",
       "      <td>Gorewada</td>\n",
       "    </tr>\n",
       "    <tr>\n",
       "      <th>959</th>\n",
       "      <td>Hingna</td>\n",
       "      <td>Nagpur</td>\n",
       "      <td>Hingna Road</td>\n",
       "      <td>Nagpur</td>\n",
       "      <td>0.705882</td>\n",
       "      <td>Hingna</td>\n",
       "    </tr>\n",
       "    <tr>\n",
       "      <th>971</th>\n",
       "      <td>Jaitala</td>\n",
       "      <td>Nagpur</td>\n",
       "      <td>Jaitala Road</td>\n",
       "      <td>Nagpur</td>\n",
       "      <td>0.736842</td>\n",
       "      <td>Jaitala</td>\n",
       "    </tr>\n",
       "    <tr>\n",
       "      <th>984</th>\n",
       "      <td>Kamptee</td>\n",
       "      <td>Nagpur</td>\n",
       "      <td>Kamptee Road</td>\n",
       "      <td>Nagpur</td>\n",
       "      <td>0.736842</td>\n",
       "      <td>Kamptee</td>\n",
       "    </tr>\n",
       "    <tr>\n",
       "      <th>990</th>\n",
       "      <td>Kharbi</td>\n",
       "      <td>Nagpur</td>\n",
       "      <td>Kharbi Road</td>\n",
       "      <td>Nagpur</td>\n",
       "      <td>0.705882</td>\n",
       "      <td>Kharbi</td>\n",
       "    </tr>\n",
       "    <tr>\n",
       "      <th>1008</th>\n",
       "      <td>Mankapur</td>\n",
       "      <td>Nagpur</td>\n",
       "      <td>Mankapur Road</td>\n",
       "      <td>Nagpur</td>\n",
       "      <td>0.761905</td>\n",
       "      <td>Mankapur</td>\n",
       "    </tr>\n",
       "    <tr>\n",
       "      <th>1030</th>\n",
       "      <td>Omkar Nagar</td>\n",
       "      <td>Nagpur</td>\n",
       "      <td>Omkar Nagar Road</td>\n",
       "      <td>Nagpur</td>\n",
       "      <td>0.814815</td>\n",
       "      <td>Omkar Nagar</td>\n",
       "    </tr>\n",
       "    <tr>\n",
       "      <th>1095</th>\n",
       "      <td>Wathoda</td>\n",
       "      <td>Nagpur</td>\n",
       "      <td>Wathoda Road</td>\n",
       "      <td>Nagpur</td>\n",
       "      <td>0.736842</td>\n",
       "      <td>Wathoda</td>\n",
       "    </tr>\n",
       "    <tr>\n",
       "      <th>1253</th>\n",
       "      <td>Bavdhan</td>\n",
       "      <td>Pune</td>\n",
       "      <td>Bavdhan Road</td>\n",
       "      <td>Pune</td>\n",
       "      <td>0.736842</td>\n",
       "      <td>Bavdhan</td>\n",
       "    </tr>\n",
       "    <tr>\n",
       "      <th>1296</th>\n",
       "      <td>Dhanori</td>\n",
       "      <td>Pune</td>\n",
       "      <td>Dhanori Road</td>\n",
       "      <td>Pune</td>\n",
       "      <td>0.736842</td>\n",
       "      <td>Dhanori</td>\n",
       "    </tr>\n",
       "    <tr>\n",
       "      <th>1326</th>\n",
       "      <td>Handewadi</td>\n",
       "      <td>Pune</td>\n",
       "      <td>Handewadi Road</td>\n",
       "      <td>Pune</td>\n",
       "      <td>0.782609</td>\n",
       "      <td>Handewadi</td>\n",
       "    </tr>\n",
       "    <tr>\n",
       "      <th>1336</th>\n",
       "      <td>Jambhulwadi</td>\n",
       "      <td>Pune</td>\n",
       "      <td>Jambhulwadi Road</td>\n",
       "      <td>Pune</td>\n",
       "      <td>0.814815</td>\n",
       "      <td>Jambhulwadi</td>\n",
       "    </tr>\n",
       "    <tr>\n",
       "      <th>1355</th>\n",
       "      <td>Keshav Nagar</td>\n",
       "      <td>Pune</td>\n",
       "      <td>Keshav Nagar Road</td>\n",
       "      <td>Pune</td>\n",
       "      <td>0.827586</td>\n",
       "      <td>Keshav Nagar</td>\n",
       "    </tr>\n",
       "    <tr>\n",
       "      <th>1489</th>\n",
       "      <td>Saswad</td>\n",
       "      <td>Pune</td>\n",
       "      <td>Saswad Road</td>\n",
       "      <td>Pune</td>\n",
       "      <td>0.705882</td>\n",
       "      <td>Saswad</td>\n",
       "    </tr>\n",
       "    <tr>\n",
       "      <th>1722</th>\n",
       "      <td>Wadgaon</td>\n",
       "      <td>Yavatmal</td>\n",
       "      <td>Wadgaon Road</td>\n",
       "      <td>Yavatmal</td>\n",
       "      <td>0.736842</td>\n",
       "      <td>Wadgaon</td>\n",
       "    </tr>\n",
       "  </tbody>\n",
       "</table>\n",
       "</div>"
      ],
      "text/plain": [
       "       locality_name region_name      locality_name_1 region_name_1  \\\n",
       "42           Kathora    Amravati         Kathora Road      Amravati   \n",
       "91        Ulkanagari  Aurangabad      Ulkanagari Road    Aurangabad   \n",
       "233           Balkum      Mumbai          Balkum Road        Mumbai   \n",
       "754   Thakur Village      Mumbai  Thakur Village Road        Mumbai   \n",
       "813      Vinay Nagar      Mumbai     Vinay Nagar Road        Mumbai   \n",
       "880       Amar Nagar      Nagpur      Amar Nagar Road        Nagpur   \n",
       "932          Dighori      Nagpur         Dighori Road        Nagpur   \n",
       "936   Friends Colony      Nagpur  Friends Colony Road        Nagpur   \n",
       "945          Godhani      Nagpur         Godhani Road        Nagpur   \n",
       "951         Gorewada      Nagpur        Gorewada Road        Nagpur   \n",
       "959           Hingna      Nagpur          Hingna Road        Nagpur   \n",
       "971          Jaitala      Nagpur         Jaitala Road        Nagpur   \n",
       "984          Kamptee      Nagpur         Kamptee Road        Nagpur   \n",
       "990           Kharbi      Nagpur          Kharbi Road        Nagpur   \n",
       "1008        Mankapur      Nagpur        Mankapur Road        Nagpur   \n",
       "1030     Omkar Nagar      Nagpur     Omkar Nagar Road        Nagpur   \n",
       "1095         Wathoda      Nagpur         Wathoda Road        Nagpur   \n",
       "1253         Bavdhan        Pune         Bavdhan Road          Pune   \n",
       "1296         Dhanori        Pune         Dhanori Road          Pune   \n",
       "1326       Handewadi        Pune       Handewadi Road          Pune   \n",
       "1336     Jambhulwadi        Pune     Jambhulwadi Road          Pune   \n",
       "1355    Keshav Nagar        Pune    Keshav Nagar Road          Pune   \n",
       "1489          Saswad        Pune          Saswad Road          Pune   \n",
       "1722         Wadgaon    Yavatmal         Wadgaon Road      Yavatmal   \n",
       "\n",
       "      similarity_score            road  \n",
       "42            0.736842         Kathora  \n",
       "91            0.800000      Ulkanagari  \n",
       "233           0.705882          Balkum  \n",
       "754           0.848485  Thakur Village  \n",
       "813           0.814815     Vinay Nagar  \n",
       "880           0.800000      Amar Nagar  \n",
       "932           0.736842         Dighori  \n",
       "936           0.848485  Friends Colony  \n",
       "945           0.736842         Godhani  \n",
       "951           0.761905        Gorewada  \n",
       "959           0.705882          Hingna  \n",
       "971           0.736842         Jaitala  \n",
       "984           0.736842         Kamptee  \n",
       "990           0.705882          Kharbi  \n",
       "1008          0.761905        Mankapur  \n",
       "1030          0.814815     Omkar Nagar  \n",
       "1095          0.736842         Wathoda  \n",
       "1253          0.736842         Bavdhan  \n",
       "1296          0.736842         Dhanori  \n",
       "1326          0.782609       Handewadi  \n",
       "1336          0.814815     Jambhulwadi  \n",
       "1355          0.827586    Keshav Nagar  \n",
       "1489          0.705882          Saswad  \n",
       "1722          0.736842         Wadgaon  "
      ]
     },
     "execution_count": 24,
     "metadata": {},
     "output_type": "execute_result"
    }
   ],
   "source": [
    "loc_same_df = loc_sim_df[loc_sim_df[\"road\"] == loc_sim_df['locality_name']]\n",
    "loc_same_df"
   ]
  },
  {
   "cell_type": "code",
   "execution_count": 25,
   "id": "77cb4eea",
   "metadata": {},
   "outputs": [],
   "source": [
    "# Replace values in df using loc_same_df as reference\n",
    "for index, row in loc_same_df.iterrows():\n",
    "    df.loc[(df['region_name'] == row['region_name']) & (df['locality_name'] == row['locality_name_1']),'locality_name']=row['locality_name']"
   ]
  },
  {
   "cell_type": "markdown",
   "id": "799b951a",
   "metadata": {},
   "source": [
    "<b>We also need to replace values of similar region name such as 'Ambe Gaon' and 'Ambegaon'. This is done by filtering rows with similarity score 0.7(already done above) to narrow the results and then manually finding similar locations.</b>"
   ]
  },
  {
   "cell_type": "code",
   "execution_count": 26,
   "id": "d48f01ef",
   "metadata": {},
   "outputs": [],
   "source": [
    "loc_sim_df = loc_sim_df[loc_sim_df[\"road\"] != loc_sim_df['locality_name']]"
   ]
  },
  {
   "cell_type": "code",
   "execution_count": 27,
   "id": "b08039ff",
   "metadata": {},
   "outputs": [
    {
     "data": {
      "text/plain": [
       "191"
      ]
     },
     "execution_count": 27,
     "metadata": {},
     "output_type": "execute_result"
    }
   ],
   "source": [
    "len(loc_sim_df)"
   ]
  },
  {
   "cell_type": "code",
   "execution_count": 28,
   "id": "fc09f4b7",
   "metadata": {},
   "outputs": [
    {
     "data": {
      "text/html": [
       "<div>\n",
       "<style scoped>\n",
       "    .dataframe tbody tr th:only-of-type {\n",
       "        vertical-align: middle;\n",
       "    }\n",
       "\n",
       "    .dataframe tbody tr th {\n",
       "        vertical-align: top;\n",
       "    }\n",
       "\n",
       "    .dataframe thead th {\n",
       "        text-align: right;\n",
       "    }\n",
       "</style>\n",
       "<table border=\"1\" class=\"dataframe\">\n",
       "  <thead>\n",
       "    <tr style=\"text-align: right;\">\n",
       "      <th></th>\n",
       "      <th>locality_name</th>\n",
       "      <th>region_name</th>\n",
       "      <th>locality_name_1</th>\n",
       "      <th>region_name_1</th>\n",
       "      <th>similarity_score</th>\n",
       "      <th>road</th>\n",
       "    </tr>\n",
       "  </thead>\n",
       "  <tbody>\n",
       "    <tr>\n",
       "      <th>1228</th>\n",
       "      <td>Ambe Gaon</td>\n",
       "      <td>Pune</td>\n",
       "      <td>Ambegaon</td>\n",
       "      <td>Pune</td>\n",
       "      <td>0.823529</td>\n",
       "      <td>Ambegaon</td>\n",
       "    </tr>\n",
       "    <tr>\n",
       "      <th>1229</th>\n",
       "      <td>Ambegaon</td>\n",
       "      <td>Pune</td>\n",
       "      <td>Ambegaon 1</td>\n",
       "      <td>Pune</td>\n",
       "      <td>0.888889</td>\n",
       "      <td>Ambegaon 1</td>\n",
       "    </tr>\n",
       "    <tr>\n",
       "      <th>1230</th>\n",
       "      <td>Ambegaon 1</td>\n",
       "      <td>Pune</td>\n",
       "      <td>Ambegaon Budruk</td>\n",
       "      <td>Pune</td>\n",
       "      <td>0.720000</td>\n",
       "      <td>Ambegaon Budruk</td>\n",
       "    </tr>\n",
       "    <tr>\n",
       "      <th>1233</th>\n",
       "      <td>Anand Nagar</td>\n",
       "      <td>Pune</td>\n",
       "      <td>Anand Park</td>\n",
       "      <td>Pune</td>\n",
       "      <td>0.761905</td>\n",
       "      <td>Anand Park</td>\n",
       "    </tr>\n",
       "    <tr>\n",
       "      <th>1242</th>\n",
       "      <td>Bakhori</td>\n",
       "      <td>Pune</td>\n",
       "      <td>Bakori</td>\n",
       "      <td>Pune</td>\n",
       "      <td>0.923077</td>\n",
       "      <td>Bakori</td>\n",
       "    </tr>\n",
       "    <tr>\n",
       "      <th>1245</th>\n",
       "      <td>Balewadi</td>\n",
       "      <td>Pune</td>\n",
       "      <td>Balewadi Phata</td>\n",
       "      <td>Pune</td>\n",
       "      <td>0.727273</td>\n",
       "      <td>Balewadi Phata</td>\n",
       "    </tr>\n",
       "    <tr>\n",
       "      <th>1246</th>\n",
       "      <td>Balewadi Phata</td>\n",
       "      <td>Pune</td>\n",
       "      <td>Balewadi Road</td>\n",
       "      <td>Pune</td>\n",
       "      <td>0.740741</td>\n",
       "      <td>Balewadi</td>\n",
       "    </tr>\n",
       "    <tr>\n",
       "      <th>1264</th>\n",
       "      <td>Bhusari colony left</td>\n",
       "      <td>Pune</td>\n",
       "      <td>Bhusari colony right</td>\n",
       "      <td>Pune</td>\n",
       "      <td>0.820513</td>\n",
       "      <td>Bhusari colony right</td>\n",
       "    </tr>\n",
       "    <tr>\n",
       "      <th>1266</th>\n",
       "      <td>Bibwewadi</td>\n",
       "      <td>Pune</td>\n",
       "      <td>Bibwewadi Annex</td>\n",
       "      <td>Pune</td>\n",
       "      <td>0.750000</td>\n",
       "      <td>Bibwewadi Annex</td>\n",
       "    </tr>\n",
       "    <tr>\n",
       "      <th>1278</th>\n",
       "      <td>Charholi Budruk</td>\n",
       "      <td>Pune</td>\n",
       "      <td>Charholi Kurd</td>\n",
       "      <td>Pune</td>\n",
       "      <td>0.785714</td>\n",
       "      <td>Charholi Kurd</td>\n",
       "    </tr>\n",
       "    <tr>\n",
       "      <th>1281</th>\n",
       "      <td>Chinchwad</td>\n",
       "      <td>Pune</td>\n",
       "      <td>Chinchwad Gaon</td>\n",
       "      <td>Pune</td>\n",
       "      <td>0.782609</td>\n",
       "      <td>Chinchwad Gaon</td>\n",
       "    </tr>\n",
       "    <tr>\n",
       "      <th>1292</th>\n",
       "      <td>Dhanakwadi</td>\n",
       "      <td>Pune</td>\n",
       "      <td>Dhankawadi</td>\n",
       "      <td>Pune</td>\n",
       "      <td>0.900000</td>\n",
       "      <td>Dhankawadi</td>\n",
       "    </tr>\n",
       "    <tr>\n",
       "      <th>1297</th>\n",
       "      <td>Dhanori Road</td>\n",
       "      <td>Pune</td>\n",
       "      <td>DhanoriLohegaon Road</td>\n",
       "      <td>Pune</td>\n",
       "      <td>0.750000</td>\n",
       "      <td>DhanoriLohegaon</td>\n",
       "    </tr>\n",
       "    <tr>\n",
       "      <th>1324</th>\n",
       "      <td>Hadapsar</td>\n",
       "      <td>Pune</td>\n",
       "      <td>Hadapsar Gaon</td>\n",
       "      <td>Pune</td>\n",
       "      <td>0.761905</td>\n",
       "      <td>Hadapsar Gaon</td>\n",
       "    </tr>\n",
       "    <tr>\n",
       "      <th>1334</th>\n",
       "      <td>Jambhe</td>\n",
       "      <td>Pune</td>\n",
       "      <td>Jambhul</td>\n",
       "      <td>Pune</td>\n",
       "      <td>0.769231</td>\n",
       "      <td>Jambhul</td>\n",
       "    </tr>\n",
       "    <tr>\n",
       "      <th>1335</th>\n",
       "      <td>Jambhul</td>\n",
       "      <td>Pune</td>\n",
       "      <td>Jambhulwadi</td>\n",
       "      <td>Pune</td>\n",
       "      <td>0.777778</td>\n",
       "      <td>Jambhulwadi</td>\n",
       "    </tr>\n",
       "    <tr>\n",
       "      <th>1344</th>\n",
       "      <td>Kalyani Nagar</td>\n",
       "      <td>Pune</td>\n",
       "      <td>Kalyani Nagar Annexe</td>\n",
       "      <td>Pune</td>\n",
       "      <td>0.787879</td>\n",
       "      <td>Kalyani Nagar Annexe</td>\n",
       "    </tr>\n",
       "    <tr>\n",
       "      <th>1349</th>\n",
       "      <td>Kasarsai</td>\n",
       "      <td>Pune</td>\n",
       "      <td>Kasarwadi</td>\n",
       "      <td>Pune</td>\n",
       "      <td>0.823529</td>\n",
       "      <td>Kasarwadi</td>\n",
       "    </tr>\n",
       "    <tr>\n",
       "      <th>1390</th>\n",
       "      <td>Mahalunge</td>\n",
       "      <td>Pune</td>\n",
       "      <td>Mahalunge Ingale</td>\n",
       "      <td>Pune</td>\n",
       "      <td>0.720000</td>\n",
       "      <td>Mahalunge Ingale</td>\n",
       "    </tr>\n",
       "    <tr>\n",
       "      <th>1393</th>\n",
       "      <td>Manchar</td>\n",
       "      <td>Pune</td>\n",
       "      <td>Manjari</td>\n",
       "      <td>Pune</td>\n",
       "      <td>0.714286</td>\n",
       "      <td>Manjari</td>\n",
       "    </tr>\n",
       "    <tr>\n",
       "      <th>1395</th>\n",
       "      <td>Manjari Budruk</td>\n",
       "      <td>Pune</td>\n",
       "      <td>Manjari Khurd</td>\n",
       "      <td>Pune</td>\n",
       "      <td>0.740741</td>\n",
       "      <td>Manjari Khurd</td>\n",
       "    </tr>\n",
       "    <tr>\n",
       "      <th>1403</th>\n",
       "      <td>Moi</td>\n",
       "      <td>Pune</td>\n",
       "      <td>Moshi</td>\n",
       "      <td>Pune</td>\n",
       "      <td>0.750000</td>\n",
       "      <td>Moshi</td>\n",
       "    </tr>\n",
       "    <tr>\n",
       "      <th>1418</th>\n",
       "      <td>Nande</td>\n",
       "      <td>Pune</td>\n",
       "      <td>Nanded</td>\n",
       "      <td>Pune</td>\n",
       "      <td>0.909091</td>\n",
       "      <td>Nanded</td>\n",
       "    </tr>\n",
       "    <tr>\n",
       "      <th>1440</th>\n",
       "      <td>Parvati Darshan</td>\n",
       "      <td>Pune</td>\n",
       "      <td>Parvati Gaon</td>\n",
       "      <td>Pune</td>\n",
       "      <td>0.740741</td>\n",
       "      <td>Parvati Gaon</td>\n",
       "    </tr>\n",
       "    <tr>\n",
       "      <th>1454</th>\n",
       "      <td>Pimpri Chinchwad</td>\n",
       "      <td>Pune</td>\n",
       "      <td>PimpriChinchwad Link Road</td>\n",
       "      <td>Pune</td>\n",
       "      <td>0.731707</td>\n",
       "      <td>PimpriChinchwad Link</td>\n",
       "    </tr>\n",
       "    <tr>\n",
       "      <th>1463</th>\n",
       "      <td>Pune Nagar Road</td>\n",
       "      <td>Pune</td>\n",
       "      <td>Pune Satara Road</td>\n",
       "      <td>Pune</td>\n",
       "      <td>0.838710</td>\n",
       "      <td>Pune Satara</td>\n",
       "    </tr>\n",
       "    <tr>\n",
       "      <th>1464</th>\n",
       "      <td>Pune Satara Road</td>\n",
       "      <td>Pune</td>\n",
       "      <td>Pune Solapur Road</td>\n",
       "      <td>Pune</td>\n",
       "      <td>0.787879</td>\n",
       "      <td>Pune Solapur</td>\n",
       "    </tr>\n",
       "    <tr>\n",
       "      <th>1470</th>\n",
       "      <td>Rambagh Colony</td>\n",
       "      <td>Pune</td>\n",
       "      <td>Rambaug Colony</td>\n",
       "      <td>Pune</td>\n",
       "      <td>0.928571</td>\n",
       "      <td>Rambaug Colony</td>\n",
       "    </tr>\n",
       "    <tr>\n",
       "      <th>1484</th>\n",
       "      <td>Sanaswadi</td>\n",
       "      <td>Pune</td>\n",
       "      <td>Sangamvadi</td>\n",
       "      <td>Pune</td>\n",
       "      <td>0.736842</td>\n",
       "      <td>Sangamvadi</td>\n",
       "    </tr>\n",
       "    <tr>\n",
       "      <th>1485</th>\n",
       "      <td>Sangamvadi</td>\n",
       "      <td>Pune</td>\n",
       "      <td>Sangvi</td>\n",
       "      <td>Pune</td>\n",
       "      <td>0.750000</td>\n",
       "      <td>Sangvi</td>\n",
       "    </tr>\n",
       "    <tr>\n",
       "      <th>1502</th>\n",
       "      <td>Shitla Nagar</td>\n",
       "      <td>Pune</td>\n",
       "      <td>Shivaji Nagar</td>\n",
       "      <td>Pune</td>\n",
       "      <td>0.800000</td>\n",
       "      <td>Shivaji Nagar</td>\n",
       "    </tr>\n",
       "    <tr>\n",
       "      <th>1510</th>\n",
       "      <td>Somatane</td>\n",
       "      <td>Pune</td>\n",
       "      <td>Somatane Phata</td>\n",
       "      <td>Pune</td>\n",
       "      <td>0.727273</td>\n",
       "      <td>Somatane Phata</td>\n",
       "    </tr>\n",
       "    <tr>\n",
       "      <th>1519</th>\n",
       "      <td>Talegaon Dabhade</td>\n",
       "      <td>Pune</td>\n",
       "      <td>Talegaon Dhamdhere</td>\n",
       "      <td>Pune</td>\n",
       "      <td>0.823529</td>\n",
       "      <td>Talegaon Dhamdhere</td>\n",
       "    </tr>\n",
       "    <tr>\n",
       "      <th>1522</th>\n",
       "      <td>Talwade</td>\n",
       "      <td>Pune</td>\n",
       "      <td>Tathawade</td>\n",
       "      <td>Pune</td>\n",
       "      <td>0.750000</td>\n",
       "      <td>Tathawade</td>\n",
       "    </tr>\n",
       "    <tr>\n",
       "      <th>1542</th>\n",
       "      <td>Varale</td>\n",
       "      <td>Pune</td>\n",
       "      <td>Varale Pune</td>\n",
       "      <td>Pune</td>\n",
       "      <td>0.705882</td>\n",
       "      <td>Varale Pune</td>\n",
       "    </tr>\n",
       "    <tr>\n",
       "      <th>1545</th>\n",
       "      <td>Vikas Nagar</td>\n",
       "      <td>Pune</td>\n",
       "      <td>Viman Nagar</td>\n",
       "      <td>Pune</td>\n",
       "      <td>0.818182</td>\n",
       "      <td>Viman Nagar</td>\n",
       "    </tr>\n",
       "    <tr>\n",
       "      <th>1546</th>\n",
       "      <td>Viman Nagar</td>\n",
       "      <td>Pune</td>\n",
       "      <td>Vishal Nagar</td>\n",
       "      <td>Pune</td>\n",
       "      <td>0.782609</td>\n",
       "      <td>Vishal Nagar</td>\n",
       "    </tr>\n",
       "    <tr>\n",
       "      <th>1563</th>\n",
       "      <td>Yashwant Nagar</td>\n",
       "      <td>Pune</td>\n",
       "      <td>Yashwantnagar</td>\n",
       "      <td>Pune</td>\n",
       "      <td>0.888889</td>\n",
       "      <td>Yashwantnagar</td>\n",
       "    </tr>\n",
       "    <tr>\n",
       "      <th>1664</th>\n",
       "      <td>Khandal</td>\n",
       "      <td>Satara</td>\n",
       "      <td>Khandala</td>\n",
       "      <td>Satara</td>\n",
       "      <td>0.933333</td>\n",
       "      <td>Khandala</td>\n",
       "    </tr>\n",
       "    <tr>\n",
       "      <th>1687</th>\n",
       "      <td>Kumbharli</td>\n",
       "      <td>Sindhudurg</td>\n",
       "      <td>Kumbharwadi</td>\n",
       "      <td>Sindhudurg</td>\n",
       "      <td>0.800000</td>\n",
       "      <td>Kumbharwadi</td>\n",
       "    </tr>\n",
       "    <tr>\n",
       "      <th>1696</th>\n",
       "      <td>Anand Nagar</td>\n",
       "      <td>Solapur</td>\n",
       "      <td>Gandhi Nagar</td>\n",
       "      <td>Solapur</td>\n",
       "      <td>0.782609</td>\n",
       "      <td>Gandhi Nagar</td>\n",
       "    </tr>\n",
       "  </tbody>\n",
       "</table>\n",
       "</div>"
      ],
      "text/plain": [
       "            locality_name region_name            locality_name_1  \\\n",
       "1228            Ambe Gaon        Pune                   Ambegaon   \n",
       "1229             Ambegaon        Pune                 Ambegaon 1   \n",
       "1230           Ambegaon 1        Pune            Ambegaon Budruk   \n",
       "1233          Anand Nagar        Pune                 Anand Park   \n",
       "1242              Bakhori        Pune                     Bakori   \n",
       "1245             Balewadi        Pune             Balewadi Phata   \n",
       "1246       Balewadi Phata        Pune              Balewadi Road   \n",
       "1264  Bhusari colony left        Pune       Bhusari colony right   \n",
       "1266            Bibwewadi        Pune            Bibwewadi Annex   \n",
       "1278      Charholi Budruk        Pune              Charholi Kurd   \n",
       "1281            Chinchwad        Pune             Chinchwad Gaon   \n",
       "1292           Dhanakwadi        Pune                 Dhankawadi   \n",
       "1297         Dhanori Road        Pune       DhanoriLohegaon Road   \n",
       "1324             Hadapsar        Pune              Hadapsar Gaon   \n",
       "1334               Jambhe        Pune                    Jambhul   \n",
       "1335              Jambhul        Pune                Jambhulwadi   \n",
       "1344        Kalyani Nagar        Pune       Kalyani Nagar Annexe   \n",
       "1349             Kasarsai        Pune                  Kasarwadi   \n",
       "1390            Mahalunge        Pune           Mahalunge Ingale   \n",
       "1393              Manchar        Pune                    Manjari   \n",
       "1395       Manjari Budruk        Pune              Manjari Khurd   \n",
       "1403                  Moi        Pune                      Moshi   \n",
       "1418                Nande        Pune                     Nanded   \n",
       "1440      Parvati Darshan        Pune               Parvati Gaon   \n",
       "1454     Pimpri Chinchwad        Pune  PimpriChinchwad Link Road   \n",
       "1463      Pune Nagar Road        Pune           Pune Satara Road   \n",
       "1464     Pune Satara Road        Pune          Pune Solapur Road   \n",
       "1470       Rambagh Colony        Pune             Rambaug Colony   \n",
       "1484            Sanaswadi        Pune                 Sangamvadi   \n",
       "1485           Sangamvadi        Pune                     Sangvi   \n",
       "1502         Shitla Nagar        Pune              Shivaji Nagar   \n",
       "1510             Somatane        Pune             Somatane Phata   \n",
       "1519     Talegaon Dabhade        Pune         Talegaon Dhamdhere   \n",
       "1522              Talwade        Pune                  Tathawade   \n",
       "1542               Varale        Pune                Varale Pune   \n",
       "1545          Vikas Nagar        Pune                Viman Nagar   \n",
       "1546          Viman Nagar        Pune               Vishal Nagar   \n",
       "1563       Yashwant Nagar        Pune              Yashwantnagar   \n",
       "1664              Khandal      Satara                   Khandala   \n",
       "1687            Kumbharli  Sindhudurg                Kumbharwadi   \n",
       "1696          Anand Nagar     Solapur               Gandhi Nagar   \n",
       "\n",
       "     region_name_1  similarity_score                  road  \n",
       "1228          Pune          0.823529              Ambegaon  \n",
       "1229          Pune          0.888889            Ambegaon 1  \n",
       "1230          Pune          0.720000       Ambegaon Budruk  \n",
       "1233          Pune          0.761905            Anand Park  \n",
       "1242          Pune          0.923077                Bakori  \n",
       "1245          Pune          0.727273        Balewadi Phata  \n",
       "1246          Pune          0.740741              Balewadi  \n",
       "1264          Pune          0.820513  Bhusari colony right  \n",
       "1266          Pune          0.750000       Bibwewadi Annex  \n",
       "1278          Pune          0.785714         Charholi Kurd  \n",
       "1281          Pune          0.782609        Chinchwad Gaon  \n",
       "1292          Pune          0.900000            Dhankawadi  \n",
       "1297          Pune          0.750000       DhanoriLohegaon  \n",
       "1324          Pune          0.761905         Hadapsar Gaon  \n",
       "1334          Pune          0.769231               Jambhul  \n",
       "1335          Pune          0.777778           Jambhulwadi  \n",
       "1344          Pune          0.787879  Kalyani Nagar Annexe  \n",
       "1349          Pune          0.823529             Kasarwadi  \n",
       "1390          Pune          0.720000      Mahalunge Ingale  \n",
       "1393          Pune          0.714286               Manjari  \n",
       "1395          Pune          0.740741         Manjari Khurd  \n",
       "1403          Pune          0.750000                 Moshi  \n",
       "1418          Pune          0.909091                Nanded  \n",
       "1440          Pune          0.740741          Parvati Gaon  \n",
       "1454          Pune          0.731707  PimpriChinchwad Link  \n",
       "1463          Pune          0.838710           Pune Satara  \n",
       "1464          Pune          0.787879          Pune Solapur  \n",
       "1470          Pune          0.928571        Rambaug Colony  \n",
       "1484          Pune          0.736842            Sangamvadi  \n",
       "1485          Pune          0.750000                Sangvi  \n",
       "1502          Pune          0.800000         Shivaji Nagar  \n",
       "1510          Pune          0.727273        Somatane Phata  \n",
       "1519          Pune          0.823529    Talegaon Dhamdhere  \n",
       "1522          Pune          0.750000             Tathawade  \n",
       "1542          Pune          0.705882           Varale Pune  \n",
       "1545          Pune          0.818182           Viman Nagar  \n",
       "1546          Pune          0.782609          Vishal Nagar  \n",
       "1563          Pune          0.888889         Yashwantnagar  \n",
       "1664        Satara          0.933333              Khandala  \n",
       "1687    Sindhudurg          0.800000           Kumbharwadi  \n",
       "1696       Solapur          0.782609          Gandhi Nagar  "
      ]
     },
     "execution_count": 28,
     "metadata": {},
     "output_type": "execute_result"
    }
   ],
   "source": [
    "loc_sim_df[150:]"
   ]
  },
  {
   "cell_type": "code",
   "execution_count": 29,
   "id": "03bcda88",
   "metadata": {},
   "outputs": [
    {
     "data": {
      "text/html": [
       "<div>\n",
       "<style scoped>\n",
       "    .dataframe tbody tr th:only-of-type {\n",
       "        vertical-align: middle;\n",
       "    }\n",
       "\n",
       "    .dataframe tbody tr th {\n",
       "        vertical-align: top;\n",
       "    }\n",
       "\n",
       "    .dataframe thead th {\n",
       "        text-align: right;\n",
       "    }\n",
       "</style>\n",
       "<table border=\"1\" class=\"dataframe\">\n",
       "  <thead>\n",
       "    <tr style=\"text-align: right;\">\n",
       "      <th></th>\n",
       "      <th>locality_name_1</th>\n",
       "      <th>locality_name</th>\n",
       "      <th>region_name</th>\n",
       "    </tr>\n",
       "  </thead>\n",
       "  <tbody>\n",
       "    <tr>\n",
       "      <th>0</th>\n",
       "      <td>Beed Bypass Padegaon</td>\n",
       "      <td>Beed Bypass Road</td>\n",
       "      <td>Aurangabad</td>\n",
       "    </tr>\n",
       "    <tr>\n",
       "      <th>1</th>\n",
       "      <td>Khokurala</td>\n",
       "      <td>Khokurla</td>\n",
       "      <td>Bhandara</td>\n",
       "    </tr>\n",
       "    <tr>\n",
       "      <th>2</th>\n",
       "      <td>Mangalwar Peth</td>\n",
       "      <td>Manganwlarpeth</td>\n",
       "      <td>Kolhapur</td>\n",
       "    </tr>\n",
       "    <tr>\n",
       "      <th>3</th>\n",
       "      <td>Amboli</td>\n",
       "      <td>Amboli</td>\n",
       "      <td>Mumbai</td>\n",
       "    </tr>\n",
       "    <tr>\n",
       "      <th>4</th>\n",
       "      <td>Bolinj</td>\n",
       "      <td>Bolinj naka</td>\n",
       "      <td>Mumbai</td>\n",
       "    </tr>\n",
       "  </tbody>\n",
       "</table>\n",
       "</div>"
      ],
      "text/plain": [
       "        locality_name_1     locality_name region_name\n",
       "0  Beed Bypass Padegaon  Beed Bypass Road  Aurangabad\n",
       "1             Khokurala          Khokurla    Bhandara\n",
       "2        Mangalwar Peth    Manganwlarpeth    Kolhapur\n",
       "3                Amboli            Amboli      Mumbai\n",
       "4                Bolinj       Bolinj naka      Mumbai"
      ]
     },
     "execution_count": 29,
     "metadata": {},
     "output_type": "execute_result"
    }
   ],
   "source": [
    "# Manually create csv referring above table\n",
    "data2 = pd.read_csv(\"similar_locations.csv\")\n",
    "data2 = data2.apply(lambda x: x.str.strip() if x.dtype == \"object\" else x)\n",
    "data2.head()"
   ]
  },
  {
   "cell_type": "code",
   "execution_count": 30,
   "id": "17cf5fbd",
   "metadata": {},
   "outputs": [],
   "source": [
    "for index, row in data2.iterrows():\n",
    "    df.loc[(df['region_name'] == row['region_name']) & (df['locality_name'] == row['locality_name_1']),'locality_name']=row['locality_name']"
   ]
  },
  {
   "cell_type": "code",
   "execution_count": 31,
   "id": "ae5b28a7",
   "metadata": {},
   "outputs": [
    {
     "data": {
      "text/html": [
       "<div>\n",
       "<style scoped>\n",
       "    .dataframe tbody tr th:only-of-type {\n",
       "        vertical-align: middle;\n",
       "    }\n",
       "\n",
       "    .dataframe tbody tr th {\n",
       "        vertical-align: top;\n",
       "    }\n",
       "\n",
       "    .dataframe thead th {\n",
       "        text-align: right;\n",
       "    }\n",
       "</style>\n",
       "<table border=\"1\" class=\"dataframe\">\n",
       "  <thead>\n",
       "    <tr style=\"text-align: right;\">\n",
       "      <th></th>\n",
       "      <th>locality_name</th>\n",
       "      <th>region_name</th>\n",
       "      <th>price</th>\n",
       "      <th>area</th>\n",
       "      <th>construction_status</th>\n",
       "      <th>house_type</th>\n",
       "      <th>bhk</th>\n",
       "      <th>new_resale</th>\n",
       "      <th>age</th>\n",
       "    </tr>\n",
       "  </thead>\n",
       "  <tbody>\n",
       "    <tr>\n",
       "      <th>0</th>\n",
       "      <td>Tarwala Nagar</td>\n",
       "      <td>Nashik</td>\n",
       "      <td>8499000.0</td>\n",
       "      <td>2260.0</td>\n",
       "      <td>Under Construction</td>\n",
       "      <td>Apartment</td>\n",
       "      <td>4.0</td>\n",
       "      <td>New</td>\n",
       "      <td>-1.0</td>\n",
       "    </tr>\n",
       "    <tr>\n",
       "      <th>1</th>\n",
       "      <td>Dombivali</td>\n",
       "      <td>Mumbai</td>\n",
       "      <td>6790000.0</td>\n",
       "      <td>500.0</td>\n",
       "      <td>Under Construction</td>\n",
       "      <td>Apartment</td>\n",
       "      <td>2.0</td>\n",
       "      <td>New</td>\n",
       "      <td>0.0</td>\n",
       "    </tr>\n",
       "    <tr>\n",
       "      <th>2</th>\n",
       "      <td>Wagholi</td>\n",
       "      <td>Pune</td>\n",
       "      <td>6030000.0</td>\n",
       "      <td>773.0</td>\n",
       "      <td>Under Construction</td>\n",
       "      <td>Apartment</td>\n",
       "      <td>3.0</td>\n",
       "      <td>New</td>\n",
       "      <td>-3.0</td>\n",
       "    </tr>\n",
       "    <tr>\n",
       "      <th>3</th>\n",
       "      <td>Ambegaon Budruk</td>\n",
       "      <td>Pune</td>\n",
       "      <td>3537000.0</td>\n",
       "      <td>477.0</td>\n",
       "      <td>Ready to move</td>\n",
       "      <td>Apartment</td>\n",
       "      <td>1.0</td>\n",
       "      <td>New</td>\n",
       "      <td>0.5</td>\n",
       "    </tr>\n",
       "    <tr>\n",
       "      <th>4</th>\n",
       "      <td>Dombivali</td>\n",
       "      <td>Mumbai</td>\n",
       "      <td>9500000.0</td>\n",
       "      <td>917.0</td>\n",
       "      <td>Under Construction</td>\n",
       "      <td>Apartment</td>\n",
       "      <td>3.0</td>\n",
       "      <td>New</td>\n",
       "      <td>-3.0</td>\n",
       "    </tr>\n",
       "  </tbody>\n",
       "</table>\n",
       "</div>"
      ],
      "text/plain": [
       "     locality_name region_name      price    area construction_status  \\\n",
       "0    Tarwala Nagar      Nashik  8499000.0  2260.0  Under Construction   \n",
       "1        Dombivali      Mumbai  6790000.0   500.0  Under Construction   \n",
       "2          Wagholi        Pune  6030000.0   773.0  Under Construction   \n",
       "3  Ambegaon Budruk        Pune  3537000.0   477.0       Ready to move   \n",
       "4        Dombivali      Mumbai  9500000.0   917.0  Under Construction   \n",
       "\n",
       "  house_type  bhk new_resale  age  \n",
       "0  Apartment  4.0        New -1.0  \n",
       "1  Apartment  2.0        New  0.0  \n",
       "2  Apartment  3.0        New -3.0  \n",
       "3  Apartment  1.0        New  0.5  \n",
       "4  Apartment  3.0        New -3.0  "
      ]
     },
     "execution_count": 31,
     "metadata": {},
     "output_type": "execute_result"
    }
   ],
   "source": [
    "df.head()"
   ]
  },
  {
   "cell_type": "code",
   "execution_count": 32,
   "id": "a5b0af4e",
   "metadata": {},
   "outputs": [],
   "source": [
    "df.to_csv('housing_prices_cleaned.csv', index=False)"
   ]
  },
  {
   "cell_type": "code",
   "execution_count": 33,
   "id": "8a0bb696",
   "metadata": {},
   "outputs": [
    {
     "data": {
      "text/html": [
       "<div>\n",
       "<style scoped>\n",
       "    .dataframe tbody tr th:only-of-type {\n",
       "        vertical-align: middle;\n",
       "    }\n",
       "\n",
       "    .dataframe tbody tr th {\n",
       "        vertical-align: top;\n",
       "    }\n",
       "\n",
       "    .dataframe thead th {\n",
       "        text-align: right;\n",
       "    }\n",
       "</style>\n",
       "<table border=\"1\" class=\"dataframe\">\n",
       "  <thead>\n",
       "    <tr style=\"text-align: right;\">\n",
       "      <th></th>\n",
       "      <th>price</th>\n",
       "      <th>area</th>\n",
       "      <th>bhk</th>\n",
       "      <th>age</th>\n",
       "    </tr>\n",
       "  </thead>\n",
       "  <tbody>\n",
       "    <tr>\n",
       "      <th>count</th>\n",
       "      <td>1.199100e+05</td>\n",
       "      <td>119910.000000</td>\n",
       "      <td>119910.000000</td>\n",
       "      <td>119910.000000</td>\n",
       "    </tr>\n",
       "    <tr>\n",
       "      <th>mean</th>\n",
       "      <td>1.472640e+07</td>\n",
       "      <td>1025.981161</td>\n",
       "      <td>1.958019</td>\n",
       "      <td>2.764767</td>\n",
       "    </tr>\n",
       "    <tr>\n",
       "      <th>std</th>\n",
       "      <td>3.616657e+07</td>\n",
       "      <td>704.483205</td>\n",
       "      <td>0.934229</td>\n",
       "      <td>6.893728</td>\n",
       "    </tr>\n",
       "    <tr>\n",
       "      <th>min</th>\n",
       "      <td>2.200000e+05</td>\n",
       "      <td>113.000000</td>\n",
       "      <td>0.000000</td>\n",
       "      <td>-14.000000</td>\n",
       "    </tr>\n",
       "    <tr>\n",
       "      <th>25%</th>\n",
       "      <td>4.800000e+06</td>\n",
       "      <td>640.000000</td>\n",
       "      <td>1.000000</td>\n",
       "      <td>0.000000</td>\n",
       "    </tr>\n",
       "    <tr>\n",
       "      <th>50%</th>\n",
       "      <td>7.900000e+06</td>\n",
       "      <td>900.000000</td>\n",
       "      <td>2.000000</td>\n",
       "      <td>2.000000</td>\n",
       "    </tr>\n",
       "    <tr>\n",
       "      <th>75%</th>\n",
       "      <td>1.470000e+07</td>\n",
       "      <td>1161.000000</td>\n",
       "      <td>2.000000</td>\n",
       "      <td>3.500000</td>\n",
       "    </tr>\n",
       "    <tr>\n",
       "      <th>max</th>\n",
       "      <td>9.999000e+08</td>\n",
       "      <td>20000.000000</td>\n",
       "      <td>15.000000</td>\n",
       "      <td>122.500000</td>\n",
       "    </tr>\n",
       "  </tbody>\n",
       "</table>\n",
       "</div>"
      ],
      "text/plain": [
       "              price           area            bhk            age\n",
       "count  1.199100e+05  119910.000000  119910.000000  119910.000000\n",
       "mean   1.472640e+07    1025.981161       1.958019       2.764767\n",
       "std    3.616657e+07     704.483205       0.934229       6.893728\n",
       "min    2.200000e+05     113.000000       0.000000     -14.000000\n",
       "25%    4.800000e+06     640.000000       1.000000       0.000000\n",
       "50%    7.900000e+06     900.000000       2.000000       2.000000\n",
       "75%    1.470000e+07    1161.000000       2.000000       3.500000\n",
       "max    9.999000e+08   20000.000000      15.000000     122.500000"
      ]
     },
     "execution_count": 33,
     "metadata": {},
     "output_type": "execute_result"
    }
   ],
   "source": [
    "df.describe()"
   ]
  },
  {
   "cell_type": "code",
   "execution_count": 34,
   "id": "9df810be",
   "metadata": {},
   "outputs": [
    {
     "data": {
      "text/plain": [
       "<AxesSubplot:>"
      ]
     },
     "execution_count": 34,
     "metadata": {},
     "output_type": "execute_result"
    },
    {
     "data": {
      "image/png": "[encoded data removed]",
      "text/plain": [
       "<Figure size 432x288 with 1 Axes>"
      ]
     },
     "metadata": {
      "needs_background": "light"
     },
     "output_type": "display_data"
    }
   ],
   "source": [
    "df['price'].hist()"
   ]
  },
  {
   "cell_type": "code",
   "execution_count": 35,
   "id": "83047eae",
   "metadata": {},
   "outputs": [
    {
     "data": {
      "text/plain": [
       "434"
      ]
     },
     "execution_count": 35,
     "metadata": {},
     "output_type": "execute_result"
    }
   ],
   "source": [
    "len(df[df['price']>200000000])"
   ]
  },
  {
   "cell_type": "code",
   "execution_count": 36,
   "id": "21255311",
   "metadata": {},
   "outputs": [
    {
     "data": {
      "text/plain": [
       "<AxesSubplot:>"
      ]
     },
     "execution_count": 36,
     "metadata": {},
     "output_type": "execute_result"
    },
    {
     "data": {
      "image/png": "[encoded data removed]",
      "text/plain": [
       "<Figure size 432x288 with 1 Axes>"
      ]
     },
     "metadata": {
      "needs_background": "light"
     },
     "output_type": "display_data"
    }
   ],
   "source": [
    "df['area'].hist()"
   ]
  },
  {
   "cell_type": "code",
   "execution_count": 37,
   "id": "9a20fce0",
   "metadata": {},
   "outputs": [
    {
     "data": {
      "text/plain": [
       "<AxesSubplot:>"
      ]
     },
     "execution_count": 37,
     "metadata": {},
     "output_type": "execute_result"
    },
    {
     "data": {
      "image/png": "[encoded data removed]",
      "text/plain": [
       "<Figure size 432x288 with 1 Axes>"
      ]
     },
     "metadata": {
      "needs_background": "light"
     },
     "output_type": "display_data"
    }
   ],
   "source": [
    "df['age'].hist()"
   ]
  },
  {
   "cell_type": "code",
   "execution_count": 38,
   "id": "a9cd1a68",
   "metadata": {},
   "outputs": [
    {
     "data": {
      "text/html": [
       "<div>\n",
       "<style scoped>\n",
       "    .dataframe tbody tr th:only-of-type {\n",
       "        vertical-align: middle;\n",
       "    }\n",
       "\n",
       "    .dataframe tbody tr th {\n",
       "        vertical-align: top;\n",
       "    }\n",
       "\n",
       "    .dataframe thead th {\n",
       "        text-align: right;\n",
       "    }\n",
       "</style>\n",
       "<table border=\"1\" class=\"dataframe\">\n",
       "  <thead>\n",
       "    <tr style=\"text-align: right;\">\n",
       "      <th></th>\n",
       "      <th>price</th>\n",
       "      <th>area</th>\n",
       "      <th>bhk</th>\n",
       "      <th>age</th>\n",
       "    </tr>\n",
       "  </thead>\n",
       "  <tbody>\n",
       "    <tr>\n",
       "      <th>price</th>\n",
       "      <td>1.000000</td>\n",
       "      <td>0.621775</td>\n",
       "      <td>0.403029</td>\n",
       "      <td>0.045634</td>\n",
       "    </tr>\n",
       "    <tr>\n",
       "      <th>area</th>\n",
       "      <td>0.621775</td>\n",
       "      <td>1.000000</td>\n",
       "      <td>0.765080</td>\n",
       "      <td>0.100260</td>\n",
       "    </tr>\n",
       "    <tr>\n",
       "      <th>bhk</th>\n",
       "      <td>0.403029</td>\n",
       "      <td>0.765080</td>\n",
       "      <td>1.000000</td>\n",
       "      <td>0.054321</td>\n",
       "    </tr>\n",
       "    <tr>\n",
       "      <th>age</th>\n",
       "      <td>0.045634</td>\n",
       "      <td>0.100260</td>\n",
       "      <td>0.054321</td>\n",
       "      <td>1.000000</td>\n",
       "    </tr>\n",
       "  </tbody>\n",
       "</table>\n",
       "</div>"
      ],
      "text/plain": [
       "          price      area       bhk       age\n",
       "price  1.000000  0.621775  0.403029  0.045634\n",
       "area   0.621775  1.000000  0.765080  0.100260\n",
       "bhk    0.403029  0.765080  1.000000  0.054321\n",
       "age    0.045634  0.100260  0.054321  1.000000"
      ]
     },
     "execution_count": 38,
     "metadata": {},
     "output_type": "execute_result"
    }
   ],
   "source": [
    "df.corr()"
   ]
  },
  {
   "cell_type": "code",
   "execution_count": 39,
   "id": "e0862931",
   "metadata": {
    "scrolled": true
   },
   "outputs": [
    {
     "data": {
      "text/plain": [
       "<AxesSubplot:>"
      ]
     },
     "execution_count": 39,
     "metadata": {},
     "output_type": "execute_result"
    },
    {
     "data": {
      "image/png": "[encoded data removed]",
      "text/plain": [
       "<Figure size 432x288 with 1 Axes>"
      ]
     },
     "metadata": {
      "needs_background": "light"
     },
     "output_type": "display_data"
    }
   ],
   "source": [
    "log_area = np.log(df.area)\n",
    "log_area.hist()"
   ]
  },
  {
   "cell_type": "code",
   "execution_count": 40,
   "id": "a4f8f96d",
   "metadata": {
    "scrolled": true
   },
   "outputs": [
    {
     "data": {
      "text/plain": [
       "<AxesSubplot:>"
      ]
     },
     "execution_count": 40,
     "metadata": {},
     "output_type": "execute_result"
    },
    {
     "data": {
      "image/png": "[encoded data removed]",
      "text/plain": [
       "<Figure size 432x288 with 1 Axes>"
      ]
     },
     "metadata": {
      "needs_background": "light"
     },
     "output_type": "display_data"
    }
   ],
   "source": [
    "log_price = np.log(df.price)\n",
    "log_price.hist()"
   ]
  },
  {
   "cell_type": "code",
   "execution_count": 41,
   "id": "342cdc33",
   "metadata": {},
   "outputs": [
    {
     "data": {
      "text/plain": [
       "NormaltestResult(statistic=9130.299428057046, pvalue=0.0)"
      ]
     },
     "execution_count": 41,
     "metadata": {},
     "output_type": "execute_result"
    }
   ],
   "source": [
    "normaltest(log_area)"
   ]
  },
  {
   "cell_type": "code",
   "execution_count": 42,
   "id": "696497e4",
   "metadata": {},
   "outputs": [
    {
     "data": {
      "text/plain": [
       "NormaltestResult(statistic=11374.664541191838, pvalue=0.0)"
      ]
     },
     "execution_count": 42,
     "metadata": {},
     "output_type": "execute_result"
    }
   ],
   "source": [
    "normaltest(log_price)"
   ]
  },
  {
   "cell_type": "markdown",
   "id": "019eb33e",
   "metadata": {},
   "source": [
    "<b>Since pvalue is less than 0.05, the variables are not log normal. Hence log transformation will not be usefull.</b>"
   ]
  },
  {
   "cell_type": "code",
   "execution_count": 43,
   "id": "30f7e20b",
   "metadata": {},
   "outputs": [
    {
     "data": {
      "text/html": [
       "<div>\n",
       "<style scoped>\n",
       "    .dataframe tbody tr th:only-of-type {\n",
       "        vertical-align: middle;\n",
       "    }\n",
       "\n",
       "    .dataframe tbody tr th {\n",
       "        vertical-align: top;\n",
       "    }\n",
       "\n",
       "    .dataframe thead th {\n",
       "        text-align: right;\n",
       "    }\n",
       "</style>\n",
       "<table border=\"1\" class=\"dataframe\">\n",
       "  <thead>\n",
       "    <tr style=\"text-align: right;\">\n",
       "      <th></th>\n",
       "      <th>locality_name</th>\n",
       "      <th>region_name</th>\n",
       "      <th>area</th>\n",
       "      <th>construction_status</th>\n",
       "      <th>house_type</th>\n",
       "      <th>bhk</th>\n",
       "      <th>new_resale</th>\n",
       "    </tr>\n",
       "  </thead>\n",
       "  <tbody>\n",
       "    <tr>\n",
       "      <th>0</th>\n",
       "      <td>Tarwala Nagar</td>\n",
       "      <td>Nashik</td>\n",
       "      <td>2260.0</td>\n",
       "      <td>Under Construction</td>\n",
       "      <td>Apartment</td>\n",
       "      <td>4.0</td>\n",
       "      <td>New</td>\n",
       "    </tr>\n",
       "    <tr>\n",
       "      <th>1</th>\n",
       "      <td>Dombivali</td>\n",
       "      <td>Mumbai</td>\n",
       "      <td>500.0</td>\n",
       "      <td>Under Construction</td>\n",
       "      <td>Apartment</td>\n",
       "      <td>2.0</td>\n",
       "      <td>New</td>\n",
       "    </tr>\n",
       "    <tr>\n",
       "      <th>2</th>\n",
       "      <td>Wagholi</td>\n",
       "      <td>Pune</td>\n",
       "      <td>773.0</td>\n",
       "      <td>Under Construction</td>\n",
       "      <td>Apartment</td>\n",
       "      <td>3.0</td>\n",
       "      <td>New</td>\n",
       "    </tr>\n",
       "    <tr>\n",
       "      <th>3</th>\n",
       "      <td>Ambegaon Budruk</td>\n",
       "      <td>Pune</td>\n",
       "      <td>477.0</td>\n",
       "      <td>Ready to move</td>\n",
       "      <td>Apartment</td>\n",
       "      <td>1.0</td>\n",
       "      <td>New</td>\n",
       "    </tr>\n",
       "    <tr>\n",
       "      <th>4</th>\n",
       "      <td>Dombivali</td>\n",
       "      <td>Mumbai</td>\n",
       "      <td>917.0</td>\n",
       "      <td>Under Construction</td>\n",
       "      <td>Apartment</td>\n",
       "      <td>3.0</td>\n",
       "      <td>New</td>\n",
       "    </tr>\n",
       "  </tbody>\n",
       "</table>\n",
       "</div>"
      ],
      "text/plain": [
       "     locality_name region_name    area construction_status house_type  bhk  \\\n",
       "0    Tarwala Nagar      Nashik  2260.0  Under Construction  Apartment  4.0   \n",
       "1        Dombivali      Mumbai   500.0  Under Construction  Apartment  2.0   \n",
       "2          Wagholi        Pune   773.0  Under Construction  Apartment  3.0   \n",
       "3  Ambegaon Budruk        Pune   477.0       Ready to move  Apartment  1.0   \n",
       "4        Dombivali      Mumbai   917.0  Under Construction  Apartment  3.0   \n",
       "\n",
       "  new_resale  \n",
       "0        New  \n",
       "1        New  \n",
       "2        New  \n",
       "3        New  \n",
       "4        New  "
      ]
     },
     "execution_count": 43,
     "metadata": {},
     "output_type": "execute_result"
    }
   ],
   "source": [
    "features = df.drop(['price','age'], axis=1).copy()\n",
    "features.head()"
   ]
  },
  {
   "cell_type": "code",
   "execution_count": 44,
   "id": "4c3ec327",
   "metadata": {},
   "outputs": [
    {
     "data": {
      "text/plain": [
       "0    8499000.0\n",
       "1    6790000.0\n",
       "2    6030000.0\n",
       "3    3537000.0\n",
       "4    9500000.0\n",
       "Name: price, dtype: float64"
      ]
     },
     "execution_count": 44,
     "metadata": {},
     "output_type": "execute_result"
    }
   ],
   "source": [
    "target = df['price'].copy()\n",
    "target.head()"
   ]
  },
  {
   "cell_type": "markdown",
   "id": "99bd457f",
   "metadata": {},
   "source": [
    "## Transformations"
   ]
  },
  {
   "cell_type": "markdown",
   "id": "40cefa3c",
   "metadata": {},
   "source": [
    "<p>Since 'locality_name' and 'region_name' have large number of unique values, we should not use one hot encoding as it will create a very high-dimensional dataset. We will instead use target encoding which replaces each unique value in the feature with the average value of the target variable for that category. This can be a useful technique for capturing the relationship between the categorical feature and the target variable.</p>"
   ]
  },
  {
   "cell_type": "code",
   "execution_count": 45,
   "id": "3c4a1073",
   "metadata": {},
   "outputs": [],
   "source": [
    "def transform_df(dataframe):\n",
    "    te = TargetEncoder()\n",
    "    dataframe['te_locality_name'] = te.fit_transform(dataframe['locality_name'], target)\n",
    "    dataframe['te_region_name'] = te.fit_transform(dataframe['region_name'], target)\n",
    "    dataframe = dataframe.drop(['locality_name','region_name'], axis=1)\n",
    "    dataframe = pd.get_dummies(dataframe, columns=['construction_status','house_type','new_resale'], drop_first=True)\n",
    "    dataframe = preprocessing.MinMaxScaler().fit_transform(dataframe)\n",
    "    return dataframe"
   ]
  },
  {
   "cell_type": "code",
   "execution_count": 46,
   "id": "495decc4",
   "metadata": {},
   "outputs": [],
   "source": [
    "features = transform_df(features)"
   ]
  },
  {
   "cell_type": "code",
   "execution_count": 47,
   "id": "91f34b4b",
   "metadata": {},
   "outputs": [
    {
     "data": {
      "text/plain": [
       "array([[0.10795997, 0.26666667, 0.01881081, 0.02317519, 1.        ,\n",
       "        0.        , 0.        , 0.        , 0.        , 0.        ,\n",
       "        0.        ]])"
      ]
     },
     "execution_count": 47,
     "metadata": {},
     "output_type": "execute_result"
    }
   ],
   "source": [
    "features[:1]"
   ]
  },
  {
   "cell_type": "markdown",
   "id": "d1467844",
   "metadata": {},
   "source": [
    "## Model 1 - Linear Regression"
   ]
  },
  {
   "cell_type": "code",
   "execution_count": 48,
   "id": "f6e56c00",
   "metadata": {},
   "outputs": [],
   "source": [
    "X_train, X_test, Y_train, Y_test = train_test_split(features, target, test_size=0.2, random_state=33)"
   ]
  },
  {
   "cell_type": "code",
   "execution_count": 49,
   "id": "c084cf9e",
   "metadata": {},
   "outputs": [
    {
     "data": {
      "text/plain": [
       "471420119762372.25"
      ]
     },
     "execution_count": 49,
     "metadata": {},
     "output_type": "execute_result"
    }
   ],
   "source": [
    "#Simple Linear Regression\n",
    "LR = LinearRegression()\n",
    "LR = LR.fit(X_train, Y_train)\n",
    "Y_predict = LR.predict(X_test)\n",
    "\n",
    "lr_error = mean_squared_error(Y_test,Y_predict)\n",
    "lr_error"
   ]
  },
  {
   "cell_type": "code",
   "execution_count": 50,
   "id": "cbb3dda0",
   "metadata": {},
   "outputs": [
    {
     "data": {
      "text/plain": [
       "0.6746861421310193"
      ]
     },
     "execution_count": 50,
     "metadata": {},
     "output_type": "execute_result"
    }
   ],
   "source": [
    "r2 = r2_score(Y_test, Y_predict)\n",
    "r2"
   ]
  },
  {
   "cell_type": "code",
   "execution_count": 51,
   "id": "22e4030d",
   "metadata": {},
   "outputs": [
    {
     "data": {
      "image/png": "[encoded data removed]",
      "text/plain": [
       "<Figure size 432x432 with 1 Axes>"
      ]
     },
     "metadata": {
      "needs_background": "light"
     },
     "output_type": "display_data"
    }
   ],
   "source": [
    "f = plt.figure(figsize=(6,6))\n",
    "ax = plt.axes()\n",
    "\n",
    "ax.plot(Y_test, Y_predict, \n",
    "         marker='o', ls='', ms=3.0)\n",
    "\n",
    "lim = (0, Y_test.max())\n",
    "\n",
    "ax.set(xlabel='Actual Price', \n",
    "       ylabel='Predicted Price', \n",
    "       xlim=lim,\n",
    "       ylim=lim,\n",
    "       title='Linear Regression Results');"
   ]
  },
  {
   "cell_type": "markdown",
   "id": "8e2229ef",
   "metadata": {},
   "source": [
    "## Model 2 - Lasso"
   ]
  },
  {
   "cell_type": "code",
   "execution_count": 59,
   "id": "bb71409c",
   "metadata": {},
   "outputs": [],
   "source": [
    "from sklearn.preprocessing import PolynomialFeatures\n",
    "from sklearn.linear_model import Lasso"
   ]
  },
  {
   "cell_type": "code",
   "execution_count": 60,
   "id": "a71f3b22",
   "metadata": {},
   "outputs": [],
   "source": [
    "# include_bias=False since Lasso includes a bias by default\n",
    "pf = PolynomialFeatures(degree=2, include_bias=False)\n",
    "X_pf = pf.fit_transform(features)"
   ]
  },
  {
   "cell_type": "code",
   "execution_count": 61,
   "id": "5a272d8f",
   "metadata": {},
   "outputs": [],
   "source": [
    "X_train, X_test, Y_train, Y_test = train_test_split(X_pf, target, test_size=0.2, random_state=7)"
   ]
  },
  {
   "cell_type": "code",
   "execution_count": 62,
   "id": "311dd3d4",
   "metadata": {},
   "outputs": [],
   "source": [
    "X_train_s = preprocessing.MinMaxScaler().fit_transform(X_train)\n",
    "X_test_s = preprocessing.MinMaxScaler().fit_transform(X_test)"
   ]
  },
  {
   "cell_type": "code",
   "execution_count": 63,
   "id": "9a26f8b5",
   "metadata": {
    "scrolled": true
   },
   "outputs": [
    {
     "name": "stderr",
     "output_type": "stream",
     "text": [
      "c:\\users\\chaitanya\\appdata\\local\\programs\\python\\python39\\lib\\site-packages\\sklearn\\linear_model\\_coordinate_descent.py:647: ConvergenceWarning: Objective did not converge. You might want to increase the number of iterations, check the scale of the features or consider increasing regularisation. Duality gap: 9.428e+18, tolerance: 1.249e+16\n",
      "  model = cd_fast.enet_coordinate_descent(\n"
     ]
    },
    {
     "data": {
      "text/plain": [
       "0.846600164333854"
      ]
     },
     "execution_count": 63,
     "metadata": {},
     "output_type": "execute_result"
    }
   ],
   "source": [
    "las = Lasso() # default alpha = 1\n",
    "las.fit(X_train_s, Y_train)\n",
    "Y_predict = las.predict(X_test_s)\n",
    "r2_score(Y_predict, Y_test)"
   ]
  },
  {
   "cell_type": "markdown",
   "id": "c5d84e6a",
   "metadata": {},
   "source": [
    "## Model 3 - Ridge"
   ]
  },
  {
   "cell_type": "code",
   "execution_count": 64,
   "id": "6711e903",
   "metadata": {},
   "outputs": [],
   "source": [
    "from sklearn.linear_model import Ridge"
   ]
  },
  {
   "cell_type": "code",
   "execution_count": 65,
   "id": "05664aa1",
   "metadata": {},
   "outputs": [
    {
     "data": {
      "text/plain": [
       "0.8466010401661429"
      ]
     },
     "execution_count": 65,
     "metadata": {},
     "output_type": "execute_result"
    }
   ],
   "source": [
    "r = Ridge(alpha = 0.001)\n",
    "r.fit(X_train_s, Y_train)\n",
    "Y_predict = r.predict(X_test_s)\n",
    "r2_score(Y_predict, Y_test)"
   ]
  },
  {
   "cell_type": "markdown",
   "id": "bd2b0361",
   "metadata": {},
   "source": [
    "<p><b>Conclusion:</b> Ridge and Lasso Models give similar R2 score (0.8466) and are better than Linear Regression. </p>"
   ]
  }
 ],
 "metadata": {
  "kernelspec": {
   "display_name": "Python 3 (ipykernel)",
   "language": "python",
   "name": "python3"
  },
  "language_info": {
   "codemirror_mode": {
    "name": "ipython",
    "version": 3
   },
   "file_extension": ".py",
   "mimetype": "text/x-python",
   "name": "python",
   "nbconvert_exporter": "python",
   "pygments_lexer": "ipython3",
   "version": "3.9.6"
  }
 },
 "nbformat": 4,
 "nbformat_minor": 5
}
